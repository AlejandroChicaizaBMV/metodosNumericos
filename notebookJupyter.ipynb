{
 "cells": [
  {
   "cell_type": "markdown",
   "id": "5ea37489",
   "metadata": {},
   "source": [
    "Método punto fijo\n",
    "\n",
    "Un punto fijo para una función es un número en el que el valor de la función no cambia cuando se aplica la función.\n",
    "\n",
    "procedimiento:\n",
    "\n",
    "1. obtener la x  = g(x)\n",
    "2. Raiz aproximada x_{x+1} = g(x_n)\n",
    "3. Cálculo de error e = |(x_{n-1} - x_n) / x_{n-1}|"
   ]
  }
 ],
 "metadata": {
  "kernelspec": {
   "display_name": "Python 3",
   "language": "python",
   "name": "python3"
  },
  "language_info": {
   "codemirror_mode": {
    "name": "ipython",
    "version": 3
   },
   "file_extension": ".py",
   "mimetype": "text/x-python",
   "name": "python",
   "nbconvert_exporter": "python",
   "pygments_lexer": "ipython3",
   "version": "3.13.3"
  }
 },
 "nbformat": 4,
 "nbformat_minor": 5
}
