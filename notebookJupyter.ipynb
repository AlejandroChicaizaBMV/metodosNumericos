{
 "cells": [
  {
   "cell_type": "markdown",
   "id": "5ea37489",
   "metadata": {},
   "source": [
    "# **Métodos numéricos** \n",
    "### Nombre: Sebastián Chicaiza\n",
    "\n",
    "---"
   ]
  },
  {
   "cell_type": "markdown",
   "id": "16f02017",
   "metadata": {},
   "source": [
    "## Modelar, simular y emular:\n",
    "\n",
    "- **Modelar**: crear una formulación matemática (como una ecuación diferencial, algebraica, o integral) que describa el comportamiento de un sistema.\n",
    "- **Simular**: usar técnicas computacionales (como métodos de Euler, Runge-Kutta, Newton-Raphson, bisección, etc.) para aproximar soluciones a modelos matemáticos.\n",
    "- **Emular**: tratar que un sistema computacional actúe como otro sistema físico o software, sin necesariamente resolver ecuaciones explícitamente."
   ]
  },
  {
   "cell_type": "markdown",
   "id": "f447bf37",
   "metadata": {},
   "source": [
    "## Métodos analíticos\n",
    "\n",
    "Los métodos analíticos son técnicas que permiten resolver un problema matemático de forma exacta, utilizando reglas y transformaciones simbólicas, como álgebra, cálculo o integración.\n"
   ]
  },
  {
   "cell_type": "markdown",
   "id": "1640e596",
   "metadata": {},
   "source": [
    "## Métodos numéricos\n",
    "\n",
    "Los métodos numéricos son algoritmos diseñados para aproximar soluciones de problemas matemáticos utilizando operaciones aritméticas finitas y repetitivas.\n",
    "\n",
    "No existe solución analítica o puede ser impráctico resolverla\n",
    "directamente"
   ]
  },
  {
   "cell_type": "markdown",
   "id": "07d61151",
   "metadata": {},
   "source": [
    "| Métodos analíticos | Métodos numéricos |\n",
    "|--------------------|-------------------|\n",
    "|Solución exacta, expresada en forma cerrada| Aproximada, resultado con error|\n",
    "|Problemas con solución conocida y manejable| Problemas complejos o sin solución exacta|\n",
    " "
   ]
  },
  {
   "cell_type": "markdown",
   "id": "21d1afde",
   "metadata": {},
   "source": [
    "## Exactitud vs Precisión \n",
    "\n",
    "| Concepto | Exactitud | Precisión |\n",
    "|----------|-----------|-----------|\n",
    "|**¿Qué mide?**| Qué tan cerca está el resultado del valor real o verdadero.|Qué tan consistentes son los resultados entre sí.|\n",
    "|**Error asociado**|Error absoluto o relativo (distancia al valor verdadero).|Error de dispersión o ruido numérico.|\n",
    "|**Analógico a**|El centro de un blanco de tiro.|Qué tan juntas caen las flechas (aunque no den en el centro).|\n",
    "|**Importa en**\t|Exactitud del método o modelo.\t|Estabilidad o confiabilidad del algoritmo.|"
   ]
  },
  {
   "cell_type": "markdown",
   "id": "2f9313af",
   "metadata": {},
   "source": [
    "## Tipos de errores\n",
    "\n",
    "Los errores son diferencias entre el valor real o exacto y el valor aproximado obtenido mediante cálculos computacionales. Estos errores son inevitables debido a las aproximaciones, redondeos y limitaciones del sistema.\n",
    "\n",
    "### Error por redondeo y truncamiento\n",
    "\n",
    "- **Errores por redondeo**: ocurren cuando un número no se puede representar exactamente en la memoria de la computadora debido a un número de cifras decimales o bits, y por lo tanto se aproxima al número más cercano posible.\n",
    "- **Errores por truncamiento**: El error por truncamiento ocurre cuando aproximamos una operación matemática compleja o infinita (como una derivada, una integral o una serie) cortando parte del cálculo, para poder resolverlo con métodos finitos y prácticos.\n",
    "- **Errores por desbordamiento**: ocurre cuando el resultado de una operación numérica excede el valor máximo que puede representarse en el tipo de dato disponible (como un float o un int)."
   ]
  },
  {
   "cell_type": "code",
   "execution_count": null,
   "id": "64b69e04",
   "metadata": {},
   "outputs": [],
   "source": []
  },
  {
   "cell_type": "code",
   "execution_count": null,
   "id": "74caf5b8",
   "metadata": {},
   "outputs": [],
   "source": []
  },
  {
   "cell_type": "markdown",
   "id": "c99a3306",
   "metadata": {},
   "source": []
  }
 ],
 "metadata": {
  "kernelspec": {
   "display_name": "Python 3",
   "language": "python",
   "name": "python3"
  },
  "language_info": {
   "codemirror_mode": {
    "name": "ipython",
    "version": 3
   },
   "file_extension": ".py",
   "mimetype": "text/x-python",
   "name": "python",
   "nbconvert_exporter": "python",
   "pygments_lexer": "ipython3",
   "version": "3.13.3"
  }
 },
 "nbformat": 4,
 "nbformat_minor": 5
}
