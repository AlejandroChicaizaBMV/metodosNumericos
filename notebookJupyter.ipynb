{
 "cells": [
  {
   "cell_type": "markdown",
   "id": "5ea37489",
   "metadata": {},
   "source": [
    "# **Métodos numéricos** \n",
    "### Nombre: Sebastián Chicaiza\n",
    "\n",
    "---"
   ]
  },
  {
   "cell_type": "markdown",
   "id": "16f02017",
   "metadata": {},
   "source": [
    "## Modelar, simular y emular:\n",
    "\n",
    "- **Modelar**: crear una formulación matemática (como una ecuación diferencial, algebraica, o integral) que describa el comportamiento de un sistema.\n",
    "- **Simular**: usar técnicas computacionales (como métodos de Euler, Runge-Kutta, Newton-Raphson, bisección, etc.) para aproximar soluciones a modelos matemáticos.\n",
    "- **Emular**: tratar que un sistema computacional actúe como otro sistema físico o software, sin necesariamente resolver ecuaciones explícitamente."
   ]
  },
  {
   "cell_type": "markdown",
   "id": "f447bf37",
   "metadata": {},
   "source": [
    "## Métodos analíticos\n",
    "\n",
    "Los métodos analíticos son técnicas que permiten resolver un problema matemático de forma exacta, utilizando reglas y transformaciones simbólicas, como álgebra, cálculo o integración.\n"
   ]
  },
  {
   "cell_type": "markdown",
   "id": "1640e596",
   "metadata": {},
   "source": [
    "## Métodos numéricos\n",
    "\n",
    "Los métodos numéricos son algoritmos diseñados para aproximar soluciones de problemas matemáticos utilizando operaciones aritméticas finitas y repetitivas.\n",
    "\n",
    "No existe solución analítica o puede ser impráctico resolverla\n",
    "directamente"
   ]
  },
  {
   "cell_type": "markdown",
   "id": "07d61151",
   "metadata": {},
   "source": [
    "| Métodos analíticos | Métodos numéricos |\n",
    "|--------------------|-------------------|\n",
    "|Solución exacta, expresada en forma cerrada| Aproximada, resultado con error|\n",
    "|Problemas con solución conocida y manejable| Problemas complejos o sin solución exacta|\n",
    " "
   ]
  },
  {
   "cell_type": "markdown",
   "id": "21d1afde",
   "metadata": {},
   "source": [
    "## Exactitud vs Precisión \n",
    "\n",
    "| Concepto | Exactitud | Precisión |\n",
    "|----------|-----------|-----------|\n",
    "|**¿Qué mide?**| Qué tan cerca está el resultado del valor real o verdadero.|Qué tan consistentes son los resultados entre sí.|\n",
    "|**Error asociado**|Error absoluto o relativo (distancia al valor verdadero).|Error de dispersión o ruido numérico.|\n",
    "|**Analógico a**|El centro de un blanco de tiro.|Qué tan juntas caen las flechas (aunque no den en el centro).|\n",
    "|**Importa en**\t|Exactitud del método o modelo.\t|Estabilidad o confiabilidad del algoritmo.|"
   ]
  },
  {
   "cell_type": "markdown",
   "id": "2f9313af",
   "metadata": {},
   "source": [
    "## Tipos de errores\n",
    "\n",
    "Los errores son diferencias entre el valor real o exacto y el valor aproximado obtenido mediante cálculos computacionales. Estos errores son inevitables debido a las aproximaciones, redondeos y limitaciones del sistema.\n",
    "\n",
    "### Error por redondeo y truncamiento\n",
    "\n",
    "- **Errores por redondeo**: ocurren cuando un número no se puede representar exactamente en la memoria de la computadora debido a un número de cifras decimales o bits, y por lo tanto se aproxima al número más cercano posible.\n",
    "- **Errores por truncamiento**: El error por truncamiento ocurre cuando aproximamos una operación matemática compleja o infinita (como una derivada, una integral o una serie) cortando parte del cálculo, para poder resolverlo con métodos finitos y prácticos.\n",
    "- **Errores por desbordamiento**: ocurre cuando el resultado de una operación numérica excede el valor máximo que puede representarse en el tipo de dato disponible (como un float o un int)."
   ]
  },
  {
   "cell_type": "markdown",
   "id": "64b69e04",
   "metadata": {},
   "source": [
    "## Representación numérica\n",
    "\n",
    "La computadora almacena los números en binario, es decir usando ceros y unos.\n",
    "\n",
    "![image](./images/representacionNumerica.png)\n",
    "- s: signo(0 positivo, 1 negativo)\n",
    "- c: exponente \n",
    "- f: mantisa(fracción binaria) \n",
    "\n",
    "La representación IEEE 754 es un estándar internacional para representar números reales en punto flotante dentro de las computadoras. Define cómo codificar números con una signo, un exponente y una mantisa (o fracción), permitiendo representar tanto números muy grandes como muy pequeños con precisión limitada.\n",
    "\n"
   ]
  },
  {
   "cell_type": "markdown",
   "id": "61d92c01",
   "metadata": {},
   "source": [
    "## Cálculo de error\n",
    "\n",
    "Error real:\n",
    "\n",
    "$$ \n",
    "error_{real} = p - p^{*} \n",
    "$$\n",
    "\n",
    "Error absoluto: \n",
    "\n",
    "$$ \n",
    "error_{absoluto} = |p - p^{*}|\n",
    "$$\n",
    "\n",
    "Error relativo:\n",
    "\n",
    "$$\n",
    "error_{relativo} = \\left|  \\frac{p-p^{*}}{p}  \\right| \n",
    "$$\n",
    "\n",
    "Error relativo porcentual:\n",
    "\n",
    "$$\n",
    "error_{\\%} = \\left|  \\frac{p-p^{*}}{p}  \\right| \\cdot 100\\%\n",
    "$$"
   ]
  },
  {
   "cell_type": "markdown",
   "id": "30ca01c8",
   "metadata": {},
   "source": [
    "## Representación Numérica \n",
    "\n",
    "32 bits\n",
    "\n",
    "- Paso 1: Convertir a binario.\n",
    "- Paso 2: Escribir en notación científica\n",
    "- Paso 3: Seguir el estándar IEEE 754 32 bits\n",
    "\n",
    "Ejemplo: Escribir el número $(263.3)_{10}$ en coma flotante\n",
    "\n",
    "* signo: $ x = (-1)^s$\n",
    "* exponente: $ 2^{c-127}$\n",
    "* mantisa: \n",
    "  $$\n",
    "    (1+f)\n",
    "  $$\n",
    "  $$\n",
    "      f = \\sum^{0}_{i = 22} (f_i \\cdot \\frac{1}{2^{23-i}})\n",
    "  $$\n",
    "  $$\n",
    "  f =  f_{22} \\cdot  \\left( \\frac{1}{2} \\right) + f_{21} \\cdot \\left(\\frac{1}{2}\\right)^2 + f_{20} \\cdot \\left(\\frac{1}{2}\\right)^3 + \\dots + f_0 \\cdot \\left( \\frac{1}{2}\\right)^{23} \n",
    "  $$"
   ]
  },
  {
   "cell_type": "markdown",
   "id": "c99a3306",
   "metadata": {},
   "source": [
    "## Representación Numérica\n",
    "\n",
    "64 bits\n",
    "\n",
    "![image](./images/representacion64bits.png)\n",
    "\n",
    "* signo: $s$\n",
    "* Exponente: $c$\n",
    "* Mantisa: $f$\n",
    "  \n",
    "$$\n",
    "x = (-1)^s \\cdot 2^{c-1023}\\cdot(1+f)\n",
    "$$"
   ]
  },
  {
   "cell_type": "markdown",
   "id": "a05f88cd",
   "metadata": {},
   "source": [
    "## Aritmética de números finitos / de computador\n",
    "\n",
    "Operaciones:\n",
    "\n",
    "$ x \\oplus y = fl(fl(x) + fl(y))$\n",
    "\n",
    "$ x \\ominus y = fl(fl(x)-fl(y))$\n",
    "\n",
    "$ x \\otimes y = fl\\left(fl(x) \\times fl(y)\\right) $\n",
    "\n",
    "$ x \\oslash y = fl\\left(\\dfrac{fl(x)}{fl(y)}\\right) $"
   ]
  },
  {
   "cell_type": "markdown",
   "id": "46a4180e",
   "metadata": {},
   "source": [
    "## Algoritmo\n",
    "\n",
    "Un algoritmo es un conjunto de instrucciones paso a paso que describen cómo realizar una tarea.\n",
    "\n",
    "![image](./images/algoritmo.jpg)"
   ]
  },
  {
   "cell_type": "markdown",
   "id": "fc8f02d5",
   "metadata": {},
   "source": [
    "## Pseudocódigo\n",
    "\n",
    "Descripción de alto nivel compacta e\n",
    "informal de un algoritmo u\n",
    "programa.\n",
    "\n",
    "![image](./images/pseudocodigo.jpg)"
   ]
  },
  {
   "cell_type": "markdown",
   "id": "595876fd",
   "metadata": {},
   "source": [
    "## Relación algoritmo, pseudocódigo y programa\n",
    "\n",
    "![image](./images/relacionAalgoritmo.png)"
   ]
  },
  {
   "cell_type": "markdown",
   "id": "e1b324de",
   "metadata": {},
   "source": [
    "## Algoritmos de caracterización\n",
    "\n",
    "![image](./images/caracterizacion.png)"
   ]
  },
  {
   "cell_type": "markdown",
   "id": "162881f8",
   "metadata": {},
   "source": [
    "## Algoritmos Iterativos\n",
    "\n",
    "Ejecución de varias veces (iteraciones) un conjunto detrminado de instrucciones.\n",
    "\n",
    "<img src=\"./images/iterativo.png\" alt=\"alt text\" width=\"500\"/>"
   ]
  },
  {
   "cell_type": "markdown",
   "id": "2a2f1745",
   "metadata": {},
   "source": [
    "## Convergencia, Divergencia y Tolerancia\n",
    "\n",
    "Converge si, al aumentar el número de iteraciones, los resultados se\n",
    "acercan cada vez más a la solución exacta.\n",
    "\n",
    "Diverge si los resultados se alejan indefinidamente o no se estabilizan.\n",
    "\n",
    "Tolerancia\n",
    "\n",
    "Es el límite aceptable del error que se impone para detener el método\n",
    "cuando se alcanza una solución \"suficientemente buena\".\n",
    "\n",
    "Se usan criterios de parada.\n",
    "\n",
    "![image](./images/divergencia.png)"
   ]
  },
  {
   "cell_type": "markdown",
   "id": "11c13dfc",
   "metadata": {},
   "source": [
    "## Criterios de parada\n",
    "\n",
    "los criterios de parada son condiciones que determinan cuándo un algoritmo iterativo debe detenerse, normalmente cuando se ha alcanzado una aproximación suficientemente cercana a la solución buscada. Estos criterios suelen basarse en el error absoluto, error relativo o un número máximo de iteraciones, y son esenciales para evitar cálculos innecesarios o bucles infinitos.\n",
    "\n",
    "$$\n",
    "|p_N - p_{N-1}| < \\varepsilon \\quad \\Rightarrow \\quad \\text{Error absoluto}\n",
    "$$\n",
    "\n",
    "$$\n",
    "\\left| \\frac{p_N - p_{N-1}}{p_N} \\right| < \\varepsilon, \\quad p_N \\ne 0 \n",
    "\\quad \\Rightarrow \\quad \\text{Error relativo}\n",
    "$$\n",
    "\n",
    "$$\n",
    "|f(p_N)| < \\varepsilon \\quad \\Rightarrow \\quad \\text{Valor de la función}\n",
    "$$\n",
    "\n",
    "$$\n",
    "i < K \\quad \\Rightarrow \\quad \\text{Número de iteraciones}\n",
    "$$\n",
    "\n",
    "$$\n",
    "t < T[\\text{ms}] \\quad \\Rightarrow \\quad \\text{Tiempo}\n",
    "$$\n"
   ]
  },
  {
   "cell_type": "markdown",
   "id": "a48db7ce",
   "metadata": {},
   "source": [
    "## Método de la bisección\n",
    "\n",
    "* Raíces de una ecuación: La raíz **x** es la solución de una ecuación $f$ de la forma:\n",
    "$$\n",
    "f(x) = 0\n",
    "$$\n",
    "\n",
    "* Teorema del valor intermedio: Si $ f \\in C[a, b] $ y $ K $ es cualquier número entre $ f(a) $ y $ f(b) $, entonces existe un número $ c $ en $ (a, b) $ para el cual $ f(c) = K $.\n",
    "\n",
    "* Búsqueda del cambio de signo: Un intervalo $[a,b]$, la función $f(x)$ toma valores de diferente signo en los extremos.\n",
    "$$\n",
    "f(a) \\cdot f(b) < 0\n",
    "$$\n",
    "\n",
    "![image](./images/biseccion.png)\n"
   ]
  },
  {
   "cell_type": "markdown",
   "id": "33ec8d44",
   "metadata": {},
   "source": [
    "El método de la bisección genera una sucesión $ {p_n}^{\\infty}_{n = 1}$ que se aproxima a cero $p$ de $f$ con:\n",
    "$$\n",
    "|p_n - p| \\leq \\frac{b-a}{2^n}, \\quad \\text{ cuando} \\quad n \\geq 1\n",
    "$$\n"
   ]
  },
  {
   "cell_type": "markdown",
   "id": "882f5a9b",
   "metadata": {},
   "source": [
    "## Algoritmo Método de la Bisección"
   ]
  },
  {
   "cell_type": "code",
   "execution_count": 2,
   "id": "e6b59d7c",
   "metadata": {},
   "outputs": [],
   "source": [
    "def evaluar(x):\n",
    "    #Función con la que se aplicará el método de bisección\n",
    "    return x**4 -x -1\n",
    "\n",
    "def algoritmoBiseccion(limiteInferior, limiteSuperior, tolerancia, numeroIteraciones):\n",
    "    #Paso 1\n",
    "    i = 1\n",
    "    FA = evaluar(limiteInferior)\n",
    "    \n",
    "    #Paso 2\n",
    "    while i <= numeroIteraciones:\n",
    "        #Paso 3\n",
    "        puntoMedio = limiteInferior + (limiteSuperior - limiteInferior)/2\n",
    "        FP = evaluar(puntoMedio)\n",
    "        \n",
    "        #Paso 4\n",
    "        if(FP == 0 or (limiteSuperior - limiteInferior)/2 < tolerancia):\n",
    "            print(f\"p = {FP}\")\n",
    "            break\n",
    "\n",
    "        #Paso 5\n",
    "        i = i + 1\n",
    "        #Paso 6\n",
    "        if(FA*FP > 0):\n",
    "            limiteInferior = puntoMedio\n",
    "            FA = FP\n",
    "        else:\n",
    "            limiteSuperior = puntoMedio\n",
    "    #Paso 7\n",
    "    print(f\"El método fracasó después de {numeroIteraciones} intentos. :c\")    "
   ]
  },
  {
   "cell_type": "markdown",
   "id": "e444dc8f",
   "metadata": {},
   "source": [
    "* Función signum: \n",
    "\n",
    "$$\n",
    "\\operatorname{sgn}(x) =\n",
    "\\begin{cases}\n",
    "-1, & \\text{si } x < 0, \\\\\n",
    "\\ \\ 0, & \\text{si } x = 0, \\\\\n",
    "\\ \\ 1, & \\text{si } x > 0.\n",
    "\\end{cases}\n",
    "$$\n"
   ]
  },
  {
   "cell_type": "markdown",
   "id": "e10a7918",
   "metadata": {},
   "source": [
    "## Método del punto fijo\n",
    "\n",
    "Un **punto fijo** para una función es un número en el que el valor de la función no cambia cuando se aplica la función.\n",
    "\n",
    "$$\n",
    "p = g(p)\n",
    "$$\n",
    "\n",
    "\n",
    "Requisitos para que funcione:\n",
    "* La función $g(p)$ debe ser continua.\n",
    "* $|g'(x)| \\leq k < 1$\n",
    "\n",
    "![image](./images/puntofijo.png)\n",
    "\n",
    "**Procedimiento:**\n",
    "\n",
    "1. Obtener la transformación $ x = g(x) $\n",
    "\n",
    "**Iteraciones:**\n",
    "\n",
    "2. Raíz aproximada $ x_{n+1} = g(x_n) $\n",
    "\n",
    "3. Cálculo de error\n",
    "\n",
    "$$\n",
    "e = \\left| \\frac{x_{n+1} - x_n}{x_{n+1}} \\right|\n",
    "$$\n"
   ]
  },
  {
   "cell_type": "markdown",
   "id": "82186d86",
   "metadata": {},
   "source": [
    "## Método de Newton-Raphson\n",
    "\n",
    "* Encontrar una raíz\n",
    "* Requiere la derivada de la función.\n",
    "\n",
    "$$\n",
    "x_n = x_{n-1} - \\frac{f(x_{n-1})}{f'(x_n-1)}, \\quad n \\geq 1\n",
    "$$\n",
    "\n",
    "![image](./images/Newton.png)"
   ]
  },
  {
   "cell_type": "markdown",
   "id": "ae4faf9b",
   "metadata": {},
   "source": [
    "## Algoritmo Método Newton-Raphson"
   ]
  },
  {
   "cell_type": "code",
   "execution_count": 3,
   "id": "65d7d7d6",
   "metadata": {},
   "outputs": [],
   "source": [
    "def evaluar_funciones(x_valor):\n",
    "    # Sustituir el valor en la función original y derivada\n",
    "    valor_f = f.subs(x, x_valor).evalf()\n",
    "    valor_f_derivada = f_derivada.subs(x, x_valor).evalf()\n",
    "    return valor_f, valor_f_derivada\n",
    "\n",
    "def algoritmoNewton(p0, tolerancia, numeroIteraciones):\n",
    "    #paso 1\n",
    "    i = 1\n",
    "    \n",
    "    #paso 2\n",
    "    while i<= numeroIteraciones:\n",
    "        #paso 3 \n",
    "        f_p0, f_derivada_p0 = evaluar_funciones(p0)\n",
    "        f_p0 = f_p0\n",
    "        f_derivada_p0 = f_derivada_p0\n",
    "        p = p0 - f_p0/f_derivada_p0\n",
    "        \n",
    "        #paso 4 \n",
    "        if abs(p - p0) < tolerancia:\n",
    "            print(f\"p = {p}\")\n",
    "            break\n",
    "\n",
    "        #paso 5\n",
    "        i = i + 1\n",
    "        #paso 6 \n",
    "        p0 = p \n",
    "    print(\"--- Fin del algoritmo ---\")"
   ]
  },
  {
   "cell_type": "markdown",
   "id": "9817371e",
   "metadata": {},
   "source": [
    "**Desventajas**\n",
    "\n",
    "1. Requeiere derivada de la función.\n",
    "2. Puede no converger.\n",
    "3. Falla si $f'(x) = 0$\n",
    "4. Computacionalmente costoso si la derivada es difícil de calcular.\n"
   ]
  },
  {
   "cell_type": "markdown",
   "id": "71c3a6dd",
   "metadata": {},
   "source": [
    "## Método de la secante\n",
    "\n",
    "$$\n",
    "x_n = x{n-1} - f(x_{n-1}) \\cdot \\frac{x_{n-1} - x_{n-2}}{f(x_{n-1} - f(x_{n-2})}\n",
    "$$\n",
    "\n",
    "![image](./images/secante.png)"
   ]
  },
  {
   "cell_type": "markdown",
   "id": "71280c38",
   "metadata": {},
   "source": [
    "## Algoritmo Método de la Secante"
   ]
  },
  {
   "cell_type": "code",
   "execution_count": 5,
   "id": "1f038fa3",
   "metadata": {},
   "outputs": [],
   "source": [
    "def algoritmoSecante(p0, p1, tolerancia, numeroIteraciones):\n",
    "    #paso 1\n",
    "    i = 2\n",
    "    q0 = evaluar(p0)\n",
    "    q1 = evaluar(p1)\n",
    "    #paso 2\n",
    "    while i <= numeroIteraciones:\n",
    "        #paso 3\n",
    "        puntoMedio = p1 - (q1 * (p1-p0)/(q1-q0))\n",
    "\n",
    "        #paso 4\n",
    "        if(abs(puntoMedio - p1)) < tolerancia:\n",
    "            print(f\"p = {puntoMedio}\")\n",
    "            break\n",
    "        #paso 5\n",
    "        i = i +1\n",
    "        #paso 6\n",
    "        p0 = p1\n",
    "        q0 = q1\n",
    "        p1 = puntoMedio\n",
    "        q1 = evaluar(puntoMedio)\n",
    "    #paso 7 \n",
    "    print(\"---Fin del algoritmo---\")"
   ]
  },
  {
   "cell_type": "markdown",
   "id": "e9349eac",
   "metadata": {},
   "source": [
    "## Método de la Posición Falsa (Regula Falsi)\n",
    "\n",
    "$$\n",
    "x_n = x_{n-1} - f(x_{n-1}) \\cdot \\frac{x_{n-1} - x_{n-2}}{f(x_{n-1}) - f(x_{n-2})}\n",
    "$$\n",
    "\n",
    "$$\n",
    "sgn f(p_2) \\cdot sgn f(p_1) < 0\n",
    "$$\n",
    "\n",
    "![image](./images/posicionfalsa.png)"
   ]
  },
  {
   "cell_type": "markdown",
   "id": "5508e87a",
   "metadata": {},
   "source": [
    "## Algoritmo Posición Falsa"
   ]
  },
  {
   "cell_type": "code",
   "execution_count": 6,
   "id": "f4bfebed",
   "metadata": {},
   "outputs": [],
   "source": [
    "def algoritmoPosicionFalsa(p0, p1, tolerancia, numeroIteraciones):\n",
    "    #Paso 1\n",
    "    i = 2\n",
    "    q0 = evaluar(p0)\n",
    "    q1 = evaluar(p1)\n",
    "    \n",
    "    #Paso 2 \n",
    "    while i <= numeroIteraciones:\n",
    "        #Paso 3 \n",
    "        p = p1 - q1 *((p1 - p0)/(q1-q0))\n",
    "\n",
    "        #Paso 4\n",
    "        if abs(p - p1) < tolerancia:\n",
    "            print(\"p = \", p)\n",
    "            break\n",
    "\n",
    "        #Paso 5\n",
    "        i = i + 1\n",
    "        q = evaluar(p)\n",
    "        \n",
    "        #Paso 6\n",
    "        if q*q1 < 0:\n",
    "            p0 = p1\n",
    "            q0 = q1\n",
    "        \n",
    "        #Paso 7\n",
    "        p1 = p \n",
    "        q1 = q\n",
    "        \n",
    "        #Paso 8\n",
    "\n",
    "    print(\"-- FIN del algoritmo ---\")"
   ]
  },
  {
   "cell_type": "code",
   "execution_count": null,
   "id": "c0012747",
   "metadata": {},
   "outputs": [],
   "source": []
  }
 ],
 "metadata": {
  "kernelspec": {
   "display_name": "Python 3",
   "language": "python",
   "name": "python3"
  },
  "language_info": {
   "codemirror_mode": {
    "name": "ipython",
    "version": 3
   },
   "file_extension": ".py",
   "mimetype": "text/x-python",
   "name": "python",
   "nbconvert_exporter": "python",
   "pygments_lexer": "ipython3",
   "version": "3.13.3"
  }
 },
 "nbformat": 4,
 "nbformat_minor": 5
}
